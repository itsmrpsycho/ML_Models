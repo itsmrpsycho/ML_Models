{
 "cells": [
  {
   "cell_type": "markdown",
   "metadata": {},
   "source": [
    "# Q1"
   ]
  },
  {
   "cell_type": "markdown",
   "metadata": {},
   "source": [
    "### 1.1 Dataset analysis & Pre Processing"
   ]
  },
  {
   "cell_type": "code",
   "execution_count": 1,
   "metadata": {},
   "outputs": [
    {
     "name": "stdout",
     "output_type": "stream",
     "text": [
      "(1143, 13)\n",
      "column fixed acidity: \n",
      "mean = 8.311111111111112 std dev = 1.7468303726275016 min = 4.6 max = 15.9\n",
      "column volatile acidity: \n",
      "mean = 0.5313385826771653 std dev = 0.17955459612835617 min = 0.12 max = 1.58\n",
      "column citric acid: \n",
      "mean = 0.2683639545056868 std dev = 0.19659979421574741 min = 0.0 max = 1.0\n",
      "column residual sugar: \n",
      "mean = 2.5321522309711284 std dev = 1.355324197143589 min = 0.9 max = 15.5\n",
      "column chlorides: \n",
      "mean = 0.08693263342082239 std dev = 0.04724665655215518 min = 0.012 max = 0.611\n",
      "column free sulfur dioxide: \n",
      "mean = 15.615485564304462 std dev = 10.246001115067605 min = 1.0 max = 68.0\n",
      "column total sulfur dioxide: \n",
      "mean = 45.91469816272966 std dev = 32.76778677994138 min = 6.0 max = 289.0\n",
      "column density: \n",
      "mean = 0.9967304111986001 std dev = 0.001924224834379527 min = 0.99007 max = 1.00369\n",
      "column pH: \n",
      "mean = 3.3110148731408575 std dev = 0.15659551281704315 min = 2.74 max = 4.01\n",
      "column sulphates: \n",
      "mean = 0.6577077865266842 std dev = 0.1703241580362606 min = 0.33 max = 2.0\n",
      "column alcohol: \n",
      "mean = 10.442111402741325 std dev = 1.0817221048833654 min = 8.4 max = 14.9\n",
      "column quality: \n",
      "mean = 5.657042869641295 std dev = 0.805471666920189 min = 3 max = 8\n",
      "column Id: \n",
      "mean = 804.9693788276466 std dev = 463.79409851409224 min = 0 max = 1597\n"
     ]
    }
   ],
   "source": [
    "import numpy as np\n",
    "import pandas as pd\n",
    "\n",
    "dat1 = pd.read_csv(\"./bin/WineQT.csv\")\n",
    "print(dat1.shape)\n",
    "for i in dat1.columns:\n",
    "    print(f\"column {i}: \")\n",
    "    column = dat1[i].to_numpy()\n",
    "    print(f\"mean = {np.mean(column)}\",end=\" \")\n",
    "    print(f\"std dev = {np.std(column)}\",end=\" \")\n",
    "    print(f\"min = {np.min(column)}\",end=\" \")\n",
    "    print(f\"max = {np.max(column)}\")"
   ]
  },
  {
   "cell_type": "code",
   "execution_count": 2,
   "metadata": {},
   "outputs": [
    {
     "data": {
      "image/png": "[encoded data removed]",
      "text/plain": [
       "<Figure size 400x300 with 1 Axes>"
      ]
     },
     "metadata": {},
     "output_type": "display_data"
    }
   ],
   "source": [
    "import matplotlib.pyplot as plt\n",
    "\n",
    "labels_column = 'quality'\n",
    "labels = dat1[labels_column]\n",
    "\n",
    "plt.figure(figsize=(4, 3))\n",
    "plt.hist(labels, bins=len(labels.unique()), edgecolor='black', color='cyan')\n",
    "plt.title(f'Distribution of {labels_column} label')\n",
    "plt.xlabel(labels_column)\n",
    "plt.ylabel('Count')\n",
    "plt.tight_layout()\n",
    "plt.show()\n"
   ]
  },
  {
   "cell_type": "code",
   "execution_count": 3,
   "metadata": {},
   "outputs": [],
   "source": [
    "from sklearn.model_selection import train_test_split\n",
    "from sklearn.preprocessing import StandardScaler\n",
    "from sklearn.impute import SimpleImputer\n",
    "\n",
    "X = dat1.drop(columns=['quality','Id']).to_numpy()\n",
    "Y = dat1['quality'].to_numpy()\n",
    "\n",
    "X_train, X_temp, Y_train, Y_temp = train_test_split(X, Y, test_size=0.3, random_state=42)\n",
    "X_val, X_test, Y_val, Y_test = train_test_split(X_temp, Y_temp, test_size=0.5, random_state=42)\n",
    "\n",
    "# Handle Missing or Inconsistent Data (if necessary)\n",
    "# Use SimpleImputer to fill missing values with the mean or other strategies\n",
    "imputer = SimpleImputer(strategy='mean')\n",
    "X_train = imputer.fit_transform(X_train)\n",
    "X_val = imputer.transform(X_val)\n",
    "X_test = imputer.transform(X_test)\n",
    "\n",
    "# Normalize and Standardize Data\n",
    "# Use StandardScaler to standardize the data\n",
    "scaler = StandardScaler()\n",
    "X_train = scaler.fit_transform(X_train)\n",
    "X_val = scaler.transform(X_val)\n",
    "X_test = scaler.transform(X_test)\n"
   ]
  },
  {
   "cell_type": "markdown",
   "metadata": {},
   "source": [
    "### 1.2: Model Building from Scratch"
   ]
  },
  {
   "cell_type": "code",
   "execution_count": 4,
   "metadata": {},
   "outputs": [],
   "source": [
    "import numpy as np\n",
    "from sklearn.metrics import accuracy_score\n",
    "from sklearn.metrics import precision_score\n",
    "from sklearn.metrics import recall_score\n",
    "from sklearn.metrics import f1_score\n",
    "\n",
    "class MultinomialLogisticRegression:\n",
    "\n",
    "    def __init__(self, num_features, num_classes, learning_rate=0.01, epochs=1000,printOutput=True):\n",
    "        self.num_features = num_features\n",
    "        self.num_classes = num_classes\n",
    "        self.classes = None\n",
    "        self.d = {}\n",
    "        self.learning_rate = learning_rate\n",
    "        self.epochs = epochs\n",
    "        self.W = np.random.rand(num_features, num_classes)\n",
    "        self.b = np.zeros(num_classes)\n",
    "        self.printOutput = printOutput\n",
    "\n",
    "    def printMetrics(self,preds,true):\n",
    "        print(f\"Accuracy = \\t {accuracy_score(preds,true)}\")\n",
    "        print(f\"precision micro = \\t {precision_score(preds,true,average='micro',zero_division=1)}\",end=\"\\t\")\n",
    "        print(f\"precision macro = \\t {precision_score(preds,true,average='macro',zero_division=1)}\")\n",
    "        print(f\"recall micro = \\t\\t {recall_score(preds,true,average='micro',zero_division=1)}\",end=\" \\t\")\n",
    "        print(f\"recall macro = \\t\\t {recall_score(preds,true,average='macro',zero_division=1)}\")\n",
    "        print(f\"f1_score micro = \\t {f1_score(preds,true,average='micro',zero_division=1)}\",end=\"\\t\")\n",
    "        print(f\"f1_score macro = \\t {f1_score(preds,true,average='macro',zero_division=1)}\\n\")\n",
    "        \n",
    "\n",
    "    def softmax(self, logits):\n",
    "        exp_logits = np.exp(logits - np.max(logits, axis=1, keepdims=True))\n",
    "        return exp_logits / np.sum(exp_logits, axis=1, keepdims=True)\n",
    "\n",
    "    def cross_entropy_loss(self, oneHotTrueProbs, pred_probs):\n",
    "        epsilon = 1e-15\n",
    "        n = oneHotTrueProbs.shape[0]\n",
    "\n",
    "        pred_probs = np.maximum(epsilon, pred_probs)\n",
    "        loss = -np.sum(oneHotTrueProbs * np.log(pred_probs))\n",
    "        \n",
    "        return loss/n\n",
    "\n",
    "    def gradient_descent(self, X, oneHotTrueProbs, pred_probs):\n",
    "        n = oneHotTrueProbs.shape[0]\n",
    "        dW = np.dot(X.T, (pred_probs - oneHotTrueProbs)) / n\n",
    "        db = np.sum(pred_probs - oneHotTrueProbs) / n\n",
    "        self.W -= self.learning_rate * dW\n",
    "        self.b -= self.learning_rate * db\n",
    "    \n",
    "    def oneHotLabels(self, Y):\n",
    "        oneHotTrueProbs = pd.get_dummies(Y).to_numpy()\n",
    "        return oneHotTrueProbs\n",
    "\n",
    "    def predict(self, X):\n",
    "        n = X.shape[0]\n",
    "        logits = np.dot(X, self.W) + self.b\n",
    "        probabilities = self.softmax(logits)\n",
    "        output = np.zeros(X.shape[0])\n",
    "        for i in range(n):\n",
    "            output[i] = self.d[np.argmax(probabilities[i])]\n",
    "        return output\n",
    "\n",
    "    def evaluate_wandb(self,X,Y):\n",
    "        logits = X_train @ self.W + self.b\n",
    "        probabilities = self.softmax(logits)\n",
    "        oneHotY = self.oneHotLabels(Y_train)\n",
    "        loss = self.cross_entropy_loss(oneHotY, probabilities)\n",
    "        acc = accuracy_score(self.predict(X),Y)\n",
    "\n",
    "        return loss, acc\n",
    "\n",
    "    def fit(self, X_train, Y_train, X_val, Y_val):\n",
    "        self.classes = np.zeros(self.num_classes)\n",
    "        self.d = {}\n",
    "        classes = np.unique(Y_train)\n",
    "        for i in range (len(classes)):\n",
    "            self.classes[i] = classes[i]\n",
    "            self.d[i] = classes[i]\n",
    "\n",
    "        for epoch in range(self.epochs):\n",
    "\n",
    "            logits = X_train @ self.W + self.b\n",
    "            probabilities = self.softmax(logits)\n",
    "\n",
    "            oneHotY = self.oneHotLabels(Y_train)\n",
    "            loss = self.cross_entropy_loss(oneHotY, probabilities)\n",
    "\n",
    "            self.gradient_descent(X_train, oneHotY, probabilities)\n",
    "\n",
    "            if (self.printOutput) and (epoch % 250 == 0):\n",
    "                print(f'Epoch {epoch}: Loss = {loss}')\n",
    "\n",
    "                predictions = self.predict(X_val)\n",
    "                self.printMetrics(predictions, Y_val)\n",
    "\n",
    "    "
   ]
  },
  {
   "cell_type": "code",
   "execution_count": 5,
   "metadata": {},
   "outputs": [
    {
     "name": "stdout",
     "output_type": "stream",
     "text": [
      "Epoch 0: Loss = 2.406355163165565\n",
      "Accuracy = \t 0.07602339181286549\n",
      "precision micro = \t 0.07602339181286549\tprecision macro = \t 0.3133379795566175\n",
      "recall micro = \t\t 0.07602339181286549 \trecall macro = \t\t 0.06310050993022008\n",
      "f1_score micro = \t 0.07602339181286549\tf1_score macro = \t 0.2262302919165664\n",
      "\n",
      "Epoch 250: Loss = 1.7571810668552643\n",
      "Accuracy = \t 0.2631578947368421\n",
      "precision micro = \t 0.2631578947368421\tprecision macro = \t 0.589979091995221\n",
      "recall micro = \t\t 0.2631578947368421 \trecall macro = \t\t 0.23973661473661476\n",
      "f1_score micro = \t 0.2631578947368421\tf1_score macro = \t 0.19503878775563224\n",
      "\n",
      "Epoch 500: Loss = 1.5689632245529628\n",
      "Accuracy = \t 0.3742690058479532\n",
      "precision micro = \t 0.3742690058479532\tprecision macro = \t 0.39010022567370234\n",
      "recall micro = \t\t 0.3742690058479532 \trecall macro = \t\t 0.25648831376540293\n",
      "f1_score micro = \t 0.37426900584795314\tf1_score macro = \t 0.5474704052492355\n",
      "\n",
      "Epoch 750: Loss = 1.5010880192917448\n",
      "Accuracy = \t 0.45614035087719296\n",
      "precision micro = \t 0.45614035087719296\tprecision macro = \t 0.4434986061330147\n",
      "recall micro = \t\t 0.45614035087719296 \trecall macro = \t\t 0.27904761904761904\n",
      "f1_score micro = \t 0.45614035087719296\tf1_score macro = \t 0.5729230733524422\n",
      "\n"
     ]
    }
   ],
   "source": [
    "model = MultinomialLogisticRegression(num_features=X_train.shape[1], num_classes=len(np.unique(Y_train)))\n",
    "model.fit(X_train, Y_train,X_val,Y_val)"
   ]
  },
  {
   "cell_type": "code",
   "execution_count": 6,
   "metadata": {},
   "outputs": [
    {
     "name": "stdout",
     "output_type": "stream",
     "text": [
      "Accuracy = \t 0.5\n",
      "precision micro = \t 0.5\tprecision macro = \t 0.46640038731542005\n",
      "recall micro = \t\t 0.5 \trecall macro = \t\t 0.2624737529917918\n",
      "f1_score micro = \t 0.5\tf1_score macro = \t 0.5778724747474747\n",
      "\n"
     ]
    }
   ],
   "source": [
    "predictions = model.predict(X_test)\n",
    "model.printMetrics(predictions,Y_test)"
   ]
  },
  {
   "cell_type": "code",
   "execution_count": 7,
   "metadata": {},
   "outputs": [
    {
     "name": "stderr",
     "output_type": "stream",
     "text": [
      "Failed to detect the name of this notebook, you can set it manually with the WANDB_NOTEBOOK_NAME environment variable to enable code saving.\n",
      "\u001b[34m\u001b[1mwandb\u001b[0m: Currently logged in as: \u001b[33mits_mrpsycho\u001b[0m. Use \u001b[1m`wandb login --relogin`\u001b[0m to force relogin\n"
     ]
    },
    {
     "data": {
      "text/html": [
       "Tracking run with wandb version 0.15.12"
      ],
      "text/plain": [
       "<IPython.core.display.HTML object>"
      ]
     },
     "metadata": {},
     "output_type": "display_data"
    },
    {
     "data": {
      "text/html": [
       "Run data is saved locally in <code>/home/itsmrpsycho/Study/SMAI/Assignment 3/assignment-3-itsmrpsycho/wandb/run-20231023_201641-2m73cvf9</code>"
      ],
      "text/plain": [
       "<IPython.core.display.HTML object>"
      ]
     },
     "metadata": {},
     "output_type": "display_data"
    },
    {
     "data": {
      "text/html": [
       "Syncing run <strong><a href='https://wandb.ai/its_mrpsycho/SMAI_A3_q1-MultinomialLogisticRegression/runs/2m73cvf9' target=\"_blank\">glad-bush-2</a></strong> to <a href='https://wandb.ai/its_mrpsycho/SMAI_A3_q1-MultinomialLogisticRegression' target=\"_blank\">Weights & Biases</a> (<a href='https://wandb.me/run' target=\"_blank\">docs</a>)<br/>"
      ],
      "text/plain": [
       "<IPython.core.display.HTML object>"
      ]
     },
     "metadata": {},
     "output_type": "display_data"
    },
    {
     "data": {
      "text/html": [
       " View project at <a href='https://wandb.ai/its_mrpsycho/SMAI_A3_q1-MultinomialLogisticRegression' target=\"_blank\">https://wandb.ai/its_mrpsycho/SMAI_A3_q1-MultinomialLogisticRegression</a>"
      ],
      "text/plain": [
       "<IPython.core.display.HTML object>"
      ]
     },
     "metadata": {},
     "output_type": "display_data"
    },
    {
     "data": {
      "text/html": [
       " View run at <a href='https://wandb.ai/its_mrpsycho/SMAI_A3_q1-MultinomialLogisticRegression/runs/2m73cvf9' target=\"_blank\">https://wandb.ai/its_mrpsycho/SMAI_A3_q1-MultinomialLogisticRegression/runs/2m73cvf9</a>"
      ],
      "text/plain": [
       "<IPython.core.display.HTML object>"
      ]
     },
     "metadata": {},
     "output_type": "display_data"
    }
   ],
   "source": [
    "import wandb\n",
    "import numpy as np\n",
    "\n",
    "# Initialize W&B\n",
    "wandb.init(project=\"SMAI_A3_q1-MultinomialLogisticRegression\", entity=\"its_mrpsycho\")\n",
    "\n",
    "# Define a function to log to W&B\n",
    "def log_to_wandb(loss, accuracy, learning_rate, epochs):\n",
    "    wandb.log({\n",
    "        \"loss\": loss,\n",
    "        \"accuracy\": accuracy,\n",
    "        \"learning_rate\": learning_rate,\n",
    "        \"epochs\": epochs\n",
    "    })\n",
    "\n",
    "# Hyperparameter Search\n",
    "learning_rates = [0.01, 0.001, 0.0001]\n",
    "epochs = [100, 200, 500, 1000, 1500]\n",
    "\n",
    "for lr in learning_rates:\n",
    "    for num_epochs in epochs:\n",
    "        # Create and train your model with the current hyperparameters\n",
    "        model = MultinomialLogisticRegression(num_features=X_train.shape[1], num_classes=len(np.unique(Y_train)), learning_rate=lr, epochs=num_epochs, printOutput=False)\n",
    "        model.fit(X_train, Y_train, X_val, Y_val)\n",
    "\n",
    "        # Evaluate on the validation set\n",
    "        val_loss, val_accuracy = model.evaluate_wandb(X_val, Y_val)\n",
    "\n",
    "        # Log the results to W&B\n",
    "        log_to_wandb(val_loss, val_accuracy, lr, num_epochs)\n",
    "\n",
    "# Analyze the results in the W&B dashboard\n"
   ]
  },
  {
   "cell_type": "code",
   "execution_count": 8,
   "metadata": {},
   "outputs": [
    {
     "name": "stdout",
     "output_type": "stream",
     "text": [
      "              precision    recall  f1-score   support\n",
      "\n",
      "         3.0       0.00      1.00      0.00         0\n",
      "         4.0       0.00      0.00      1.00         6\n",
      "         5.0       0.70      0.74      0.72        81\n",
      "         6.0       0.50      0.18      0.27        65\n",
      "         7.0       0.28      0.76      0.41        17\n",
      "         8.0       0.00      0.00      1.00         3\n",
      "\n",
      "    accuracy                           0.49       172\n",
      "   macro avg       0.25      0.45      0.57       172\n",
      "weighted avg       0.55      0.49      0.53       172\n",
      "\n"
     ]
    }
   ],
   "source": [
    "import numpy as np\n",
    "from sklearn.metrics import classification_report\n",
    "\n",
    "modelOptimal = MultinomialLogisticRegression(num_features=X_train.shape[1], num_classes=len(np.unique(Y_train)), learning_rate=0.01, epochs=1500, printOutput=False)\n",
    "\n",
    "modelOptimal.fit(X_train, Y_train, X_val, Y_val)\n",
    "Y_pred = modelOptimal.predict(X_test)\n",
    "report = classification_report(Y_test, Y_pred,zero_division=1)\n",
    "\n",
    "print(report)"
   ]
  }
 ],
 "metadata": {
  "kernelspec": {
   "display_name": "coding",
   "language": "python",
   "name": "python3"
  },
  "language_info": {
   "codemirror_mode": {
    "name": "ipython",
    "version": 3
   },
   "file_extension": ".py",
   "mimetype": "text/x-python",
   "name": "python",
   "nbconvert_exporter": "python",
   "pygments_lexer": "ipython3",
   "version": "3.8.18"
  },
  "orig_nbformat": 4
 },
 "nbformat": 4,
 "nbformat_minor": 2
}
